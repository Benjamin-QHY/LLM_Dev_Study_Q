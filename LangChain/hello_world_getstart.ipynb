{
 "cells": [
  {
   "cell_type": "markdown",
   "metadata": {},
   "source": [
    "#有prompts、chain、agents（没有调好）、memory（没有调好）"
   ]
  },
  {
   "cell_type": "code",
   "execution_count": null,
   "metadata": {},
   "outputs": [],
   "source": [
    "import os\n",
    "\n",
    "\n",
    "from langchain import LLMChain\n",
    "\n",
    "from langchain.chat_models import ChatOpenAI\n",
    "from langchain.schema import(\n",
    "    AIMessage,HumanMessage,SystemMessage\n",
    ")\n",
    "from langchain.prompts.chat import(\n",
    "    ChatPromptTemplate,SystemMessagePromptTemplate,\n",
    "    HumanMessagePromptTemplate\n",
    ")\n",
    "\n",
    "from langchain.agents import (\n",
    "    load_tools,initialize_agent,AgentType\n",
    ")\n",
    "\n",
    "\n",
    "from dotenv import load_dotenv, find_dotenv"
   ]
  },
  {
   "cell_type": "code",
   "execution_count": null,
   "metadata": {},
   "outputs": [],
   "source": [
    "\n",
    "_ = load_dotenv(find_dotenv())\n",
    "\n",
    "# 配置 OpenAI 服务\n",
    "OPENAI_API_KEY = os.getenv('OPENAI_API_KEY')  ## 设置openai的key\n",
    "OPENAI_API_BASE = os.getenv('OPENAI_BASE_URL')  ## 更换为代理地址\n",
    "print(os.getenv(\"OPENAI_API_KEY\"))\n",
    "print(os.getenv(\"OPENAI_BASE_URL\"))\n",
    "llm = ChatOpenAI(openai_api_base=OPENAI_API_BASE, openai_api_key=OPENAI_API_KEY,\n",
    "                  temperature=0)"
   ]
  },
  {
   "cell_type": "code",
   "execution_count": null,
   "metadata": {},
   "outputs": [],
   "source": [
    "template=\"我要从到{start_place}旅游{end_place}\"\n",
    "system_message_prompt=SystemMessagePromptTemplate.from_template(template)\n",
    "\n",
    "human_template=\"{user_text}\"\n",
    "human_template_prompt=HumanMessagePromptTemplate.from_template(human_template)\n",
    "\n",
    "chat_prompt=ChatPromptTemplate.from_messages([\n",
    "    system_message_prompt,\n",
    "    human_template_prompt\n",
    "])"
   ]
  },
  {
   "cell_type": "code",
   "execution_count": null,
   "metadata": {},
   "outputs": [],
   "source": [
    "#输出最终的提示词\n",
    "# print(chat_prompt.format_messages(\n",
    "#     start_place=\"烟台\"\n",
    "#     ,end_place=\"北京\"\n",
    "#     ,user_text=\"帮我规划一下最快的路线\"\n",
    "# ))\n",
    "\n",
    "\n",
    "#agent示例代码\n",
    "# tools=load_tools([\"llm-math\"],llm=llm)\n",
    "# agent=initialize_agent(tools,chat,agent=AgentType.CHAT_ZERO_SHOT_REACT_DESCRIPTION,verbose=True)\n",
    "# result=agent.run(\"今天天气如何？\")\n",
    "\n",
    "#chain示例代码\n",
    "chain=LLMChain(llm=llm,prompt=chat_prompt)\n",
    "response=chain.run(\n",
    "    start_place=\"烟台\"\n",
    "    ,end_place=\"北京\"\n",
    "    ,user_text=\"帮我规划一下最快的路线\"\n",
    ")\n",
    "\n",
    "print(response)"
   ]
  }
 ],
 "metadata": {
  "language_info": {
   "name": "python"
  }
 },
 "nbformat": 4,
 "nbformat_minor": 2
}
