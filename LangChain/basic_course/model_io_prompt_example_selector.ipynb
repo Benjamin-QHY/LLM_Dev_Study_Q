{
 "cells": [
  {
   "cell_type": "markdown",
   "metadata": {},
   "source": [
    "# Model I/O - Prompt ExampleSelector 少样本提示，示例选择器"
   ]
  },
  {
   "cell_type": "markdown",
   "metadata": {},
   "source": [
    "## LengthBasedExampleSelector 按长度示例选择器"
   ]
  },
  {
   "cell_type": "markdown",
   "metadata": {},
   "source": [
    "引入类"
   ]
  },
  {
   "cell_type": "code",
   "execution_count": null,
   "metadata": {},
   "outputs": [],
   "source": [
    "from langchain import PromptTemplate\n",
    "from langchain.prompts import FewShotPromptTemplate"
   ]
  },
  {
   "cell_type": "markdown",
   "metadata": {},
   "source": [
    "### 1、创建一个少样例提示"
   ]
  },
  {
   "cell_type": "code",
   "execution_count": null,
   "metadata": {},
   "outputs": [],
   "source": [
    "# 定义示例\n",
    "examples = [\n",
    "    {\"title\": \"今日份的小确幸\", \"content\": \"早上的一杯咖啡，让忙碌的生活暂时按下暂停键。在这个小小的瞬间，找到了自己的小确幸。\"},\n",
    "    {\"title\": \"一个人的西藏\", \"content\": \"独自一人踏上西藏之旅，每一步都是风景，每一刻都是故事。这里的蓝天白云，让我忘记了世界的喧嚣。\"},\n",
    "    {\"title\": \"夏日防晒必备良品\", \"content\": \"分享我这个夏天最爱的防晒霜，轻薄不油腻，让我在炎炎夏日也能享受阳光而不畏惧。\"}\n",
    "]\n",
    "\n",
    "example_prompt = PromptTemplate(\n",
    "    input_variables=[\"title\", \"content\"], template=\"标题: {title}\\n内容：{content}\"\n",
    ")\n",
    "\n",
    "# print(example_prompt.format(**examples[0]))\n",
    "\n",
    "# 创建 FewShotPromptTemplate\n",
    "fewShotprompt = FewShotPromptTemplate(\n",
    "    examples=examples,\n",
    "    example_prompt=example_prompt,\n",
    "    example_separator=\"\\n\\n\",\n",
    "    prefix=\"想要创作出具有小红书风格的内容，请参考以下示例：\",\n",
    "    suffix=\"根据上述示例，尝试创作一个{user_input}。\",\n",
    "    input_variables=[\"user_input\"]\n",
    ")\n",
    "\n",
    "# 生成提示\n",
    "print(fewShotprompt.format(user_input=\"新的故事\"))"
   ]
  }
 ],
 "metadata": {
  "kernelspec": {
   "display_name": "base",
   "language": "python",
   "name": "python3"
  },
  "language_info": {
   "codemirror_mode": {
    "name": "ipython",
    "version": 3
   },
   "file_extension": ".py",
   "mimetype": "text/x-python",
   "name": "python",
   "nbconvert_exporter": "python",
   "pygments_lexer": "ipython3",
   "version": "3.11.4"
  }
 },
 "nbformat": 4,
 "nbformat_minor": 2
}
