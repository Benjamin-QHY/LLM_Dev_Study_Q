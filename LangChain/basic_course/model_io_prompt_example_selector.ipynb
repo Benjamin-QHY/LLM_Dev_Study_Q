{
 "cells": [
  {
   "cell_type": "markdown",
   "metadata": {},
   "source": [
    "# Model I/O - Prompt ExampleSelector 少样本提示，示例选择器"
   ]
  },
  {
   "cell_type": "markdown",
   "metadata": {},
   "source": [
    "## LengthBasedExampleSelector 按长度示例选择器"
   ]
  },
  {
   "cell_type": "markdown",
   "metadata": {},
   "source": [
    "引入类"
   ]
  },
  {
   "cell_type": "code",
   "execution_count": null,
   "metadata": {},
   "outputs": [],
   "source": [
    "from langchain.prompts import FewShotPromptTemplate, PromptTemplate\n",
    "from langchain.prompts.example_selector import LengthBasedExampleSelector"
   ]
  },
  {
   "cell_type": "code",
   "execution_count": null,
   "metadata": {},
   "outputs": [],
   "source": [
    "# 创建一个包含词语及其反义词的示例集合。\n",
    "examples = [\n",
    "    {\"input\": \"光明\", \"output\": \"黑暗\"},\n",
    "    {\"input\": \"快乐\", \"output\": \"悲伤\"},\n",
    "    {\"input\": \"上升\", \"output\": \"下降\"},\n",
    "    {\"input\": \"胜利\", \"output\": \"失败\"},\n",
    "    {\"input\": \"繁荣\", \"output\": \"衰败\"},\n",
    "]\n",
    "\n",
    "# 定义如何将示例数据格式化为字符串的模板。\n",
    "example_prompt = PromptTemplate(\n",
    "    input_variables=[\"input\", \"output\"],\n",
    "    template=\"词语: {input}\\n反义词: {output}\",\n",
    ")\n",
    "\n",
    "# 使用LengthBasedExampleSelector选择符合长度要求的示例。\n",
    "example_selector = LengthBasedExampleSelector(\n",
    "    examples=examples,\n",
    "    example_prompt=example_prompt,\n",
    "    # 假设我们希望每个示例的格式化字符串长度不超过10个字符。\n",
    "    max_length=10,\n",
    ")\n",
    "\n",
    "# 创建FewShotPromptTemplate，动态地根据输入选择示例并生成提示。\n",
    "dynamic_prompt = FewShotPromptTemplate(\n",
    "    example_selector=example_selector,\n",
    "    example_prompt=example_prompt,\n",
    "    prefix=\"根据词语说出反义词大赛\",\n",
    "    suffix=\"轮到你了，词语: {input}\\n反义词:\",\n",
    "    input_variables=[\"input\"],\n",
    ")\n",
    "\n",
    "\n",
    "print(dynamic_prompt.format(input=\"努力\"))"
   ]
  },
  {
   "cell_type": "markdown",
   "metadata": {},
   "source": [
    "## MaxMarginalRelevanceExampleSelector 基于最大边际相关性的示例选择器"
   ]
  },
  {
   "cell_type": "markdown",
   "metadata": {},
   "source": [
    "安装向量数据库FAISS"
   ]
  },
  {
   "cell_type": "code",
   "execution_count": null,
   "metadata": {},
   "outputs": [],
   "source": [
    "! pip install faiss-cpu"
   ]
  },
  {
   "cell_type": "markdown",
   "metadata": {},
   "source": [
    "\n",
    "引入类"
   ]
  },
  {
   "cell_type": "code",
   "execution_count": null,
   "metadata": {},
   "outputs": [],
   "source": [
    "\n",
    "from langchain.prompts import FewShotPromptTemplate, PromptTemplate\n",
    "from langchain.prompts.example_selector import MaxMarginalRelevanceExampleSelector\n",
    "from langchain_community.vectorstores import FAISS\n",
    "from langchain_community.embeddings.openai import OpenAIEmbeddings\n",
    "\n",
    "import os"
   ]
  },
  {
   "cell_type": "code",
   "execution_count": null,
   "metadata": {},
   "outputs": [],
   "source": [
    "example_prompt = PromptTemplate(\n",
    "    input_variables=[\"input\", \"output\"],\n",
    "    template=\"输入: {input}\\n输出: {output}\",\n",
    ")\n",
    "\n",
    "# 创建反义词任务的示例\n",
    "examples = [\n",
    "    {\"input\": \"黑暗\", \"output\": \"光明\"},\n",
    "    {\"input\": \"寒冷\", \"output\": \"温暖\"},\n",
    "    {\"input\": \"干燥\", \"output\": \"湿润\"},\n",
    "    {\"input\": \"安静\", \"output\": \"喧闹\"},\n",
    "    {\"input\": \"平滑\", \"output\": \"粗糙\"},\n",
    "]\n",
    "\n",
    "# 配置 OpenAI 服务\n",
    "OPENAI_API_KEY = os.getenv('OPENAI_API_KEY')  ## 设置openai的key\n",
    "OPENAI_API_BASE = os.getenv('OPENAI_BASE_URL')  ## 更换为代理地址\n",
    "print(os.getenv(\"OPENAI_API_KEY\"))\n",
    "print(os.getenv(\"OPENAI_BASE_URL\"))\n",
    "\n",
    "example_selector = MaxMarginalRelevanceExampleSelector.from_examples(\n",
    "    # 可供选择的示例列表\n",
    "    examples,\n",
    "    # 用于生成语义相似性嵌入的嵌入类\n",
    "    OpenAIEmbeddings(openai_api_base=OPENAI_API_BASE, openai_api_key=OPENAI_API_KEY),\n",
    "    # 用于存储嵌入并进行相似性搜索的VectorStore类\n",
    "    FAISS,\n",
    "    # 要生成的示例数量\n",
    "    k=2,\n",
    ")\n",
    "\n",
    "mmr_prompt = FewShotPromptTemplate(\n",
    "    # 我们提供一个示例选择器，而不是示例\n",
    "    example_selector=example_selector,\n",
    "    example_prompt=example_prompt,\n",
    "    prefix=\"给出每个输入的反义词\",\n",
    "    suffix=\"输入: {adjective}\\n输出:\",\n",
    "    input_variables=[\"adjective\"],\n",
    ")\n",
    "\n",
    "# 如果输入是一个情感或属性，应该首先选择相关的示例\n",
    "print(mmr_prompt.format(adjective=\"快乐\"))\n",
    "\n"
   ]
  },
  {
   "cell_type": "markdown",
   "metadata": {},
   "source": [
    "## SemanticSimilarityExampleSelector 基于相关性的示例选择器"
   ]
  },
  {
   "cell_type": "markdown",
   "metadata": {},
   "source": [
    "引入类"
   ]
  },
  {
   "cell_type": "code",
   "execution_count": null,
   "metadata": {},
   "outputs": [],
   "source": [
    "from langchain.prompts import FewShotPromptTemplate, PromptTemplate\n",
    "from langchain.prompts.example_selector import SemanticSimilarityExampleSelector\n",
    "from langchain_community.vectorstores import FAISS\n",
    "from langchain_community.embeddings.openai import OpenAIEmbeddings\n",
    "\n",
    "import os"
   ]
  },
  {
   "cell_type": "code",
   "execution_count": null,
   "metadata": {},
   "outputs": [],
   "source": [
    "example_prompt = PromptTemplate(\n",
    "    input_variables=[\"input\", \"output\"],\n",
    "    template=\"输入: {input}\\n输出: {output}\",\n",
    ")\n",
    "\n",
    "# 创建反义词任务的示例\n",
    "examples = [\n",
    "    {\"input\": \"黑暗\", \"output\": \"光明\"},\n",
    "    {\"input\": \"寒冷\", \"output\": \"温暖\"},\n",
    "    {\"input\": \"干燥\", \"output\": \"湿润\"},\n",
    "    {\"input\": \"安静\", \"output\": \"喧闹\"},\n",
    "    {\"input\": \"平滑\", \"output\": \"粗糙\"},\n",
    "]\n",
    "\n",
    "# 配置 OpenAI 服务\n",
    "OPENAI_API_KEY = os.getenv('OPENAI_API_KEY')  ## 设置openai的key\n",
    "OPENAI_API_BASE = os.getenv('OPENAI_BASE_URL')  ## 更换为代理地址\n",
    "print(os.getenv(\"OPENAI_API_KEY\"))\n",
    "print(os.getenv(\"OPENAI_BASE_URL\"))\n",
    "\n",
    "example_selector = SemanticSimilarityExampleSelector.from_examples(\n",
    "    # 可供选择的示例列表\n",
    "    examples,\n",
    "    # 用于生成语义相似性嵌入的嵌入类\n",
    "    OpenAIEmbeddings(openai_api_base=OPENAI_API_BASE, openai_api_key=OPENAI_API_KEY),\n",
    "    # 用于存储嵌入并进行相似性搜索的VectorStore类\n",
    "    FAISS,\n",
    "    # 要生成的示例数量\n",
    "    k=2,\n",
    ")\n",
    "\n",
    "mmr_prompt = FewShotPromptTemplate(\n",
    "    # 我们提供一个示例选择器，而不是示例\n",
    "    example_selector=example_selector,\n",
    "    example_prompt=example_prompt,\n",
    "    prefix=\"给出每个输入的反义词\",\n",
    "    suffix=\"输入: {adjective}\\n输出:\",\n",
    "    input_variables=[\"adjective\"],\n",
    ")\n",
    "\n",
    "# 如果输入是一个情感或属性，应该首先选择相关的示例\n",
    "print(mmr_prompt.format(adjective=\"快乐\"))\n",
    "\n"
   ]
  }
 ],
 "metadata": {
  "kernelspec": {
   "display_name": "base",
   "language": "python",
   "name": "python3"
  },
  "language_info": {
   "codemirror_mode": {
    "name": "ipython",
    "version": 3
   },
   "file_extension": ".py",
   "mimetype": "text/x-python",
   "name": "python",
   "nbconvert_exporter": "python",
   "pygments_lexer": "ipython3",
   "version": "3.11.4"
  }
 },
 "nbformat": 4,
 "nbformat_minor": 2
}
