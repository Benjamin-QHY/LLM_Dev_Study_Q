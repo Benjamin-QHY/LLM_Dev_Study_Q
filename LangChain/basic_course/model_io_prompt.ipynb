{
 "cells": [
  {
   "cell_type": "markdown",
   "metadata": {},
   "source": [
    "# Model I/O - Prompt"
   ]
  },
  {
   "cell_type": "markdown",
   "metadata": {},
   "source": [
    "## 引入类"
   ]
  },
  {
   "cell_type": "code",
   "execution_count": null,
   "metadata": {},
   "outputs": [],
   "source": [
    "from langchain import PromptTemplate"
   ]
  },
  {
   "cell_type": "markdown",
   "metadata": {},
   "source": [
    "## PromptTemplate 字符串提示模版\n",
    "\n",
    "字符串提示模版最终形成的提示是以字符串形式存在的，在字符串模版中可以有多个占位符，每个占位符就是一个变量，后续可以将变量的位置替换成对应的字符串。\n",
    "格式化模版的时候，可以使用 f-strings（默认）或 jinja2 语法。"
   ]
  },
  {
   "cell_type": "markdown",
   "metadata": {},
   "source": [
    "### 1、使用构造函数创建"
   ]
  },
  {
   "cell_type": "code",
   "execution_count": null,
   "metadata": {},
   "outputs": [],
   "source": [
    "\n",
    "# 使用构造函数创建\n",
    "template = \"\"\"\\\n",
    "秋水札记，定位于 {product1} AI 编程推广，分享 {product2} 商业与技术。\n",
    "\"\"\"\n",
    "prompt = PromptTemplate(input_variables=[\"product1\",\"product2\"], template=template)\n",
    "print(prompt.format(product1=\"LangChain\", product2=\"AI\"))\n",
    "print(prompt.format_prompt(product1=\"LangChain\", product2=\"AI\").to_messages())"
   ]
  },
  {
   "cell_type": "markdown",
   "metadata": {},
   "source": [
    "### 2、使用from_template方法，模版字符串创建"
   ]
  },
  {
   "cell_type": "code",
   "execution_count": null,
   "metadata": {},
   "outputs": [],
   "source": [
    "\n",
    "# 使用from_template方法创建\n",
    "template = \"\"\"\\\n",
    "秋水札记，定位于 {product1} AI 编程推广，分享 {product2} 商业与技术。\n",
    "\"\"\"\n",
    "prompt_multiple = PromptTemplate.from_template(template)\n",
    "print(prompt_multiple.format(product1=\"LangChain\", product2=\"AI\"))"
   ]
  },
  {
   "cell_type": "markdown",
   "metadata": {},
   "source": [
    "### 3、使用from_file方法创建，模版文件创建"
   ]
  },
  {
   "cell_type": "code",
   "execution_count": null,
   "metadata": {},
   "outputs": [],
   "source": [
    "# 假设有一个名为\"model_io_prompt.txt\"的文件，其中包含模板字符串\n",
    "# 文件内容: \"秋水札记，定位于 {product1} AI 编程推广，分享 {product2} 商业与技术。\"\n",
    "template_path = \"model_io_prompt.txt\"\n",
    "prompt_from_file = PromptTemplate.from_file(template_path)\n",
    "print(prompt_from_file.format(product1=\"LangChain\", product2=\"AI\"))"
   ]
  },
  {
   "cell_type": "markdown",
   "metadata": {},
   "source": [
    "### 4、partial方法多次对 prompt 提示模版进行赋值"
   ]
  },
  {
   "cell_type": "markdown",
   "metadata": {},
   "source": [
    "#### 1）partial方法字符串赋值"
   ]
  },
  {
   "cell_type": "code",
   "execution_count": null,
   "metadata": {},
   "outputs": [],
   "source": [
    "# 初始化模板，其中包含了两个变量：product1和product2\n",
    "template_str = \"秋水札记，定位于 {product1} AI 编程推广，分享 {product2} 商业与技术。\"\n",
    "prompt = PromptTemplate.from_template(template_str)\n",
    "\n",
    "# 对模板进行partial处理，先填充product1变量\n",
    "partial_prompt = prompt.partial(product1=\"langchain\")\n",
    "print(partial_prompt)\n",
    "\n",
    "# 使用partial处理后的模板，赋值剩余的product2变量\n",
    "# 最后一步赋值操作需要用format方法\n",
    "final_statement = partial_prompt.format(product2=\"AI\")\n",
    "print(final_statement)"
   ]
  },
  {
   "cell_type": "markdown",
   "metadata": {},
   "source": [
    "#### 2）partial方法函数赋值"
   ]
  },
  {
   "cell_type": "code",
   "execution_count": null,
   "metadata": {},
   "outputs": [],
   "source": [
    "from langchain.prompts import PromptTemplate\n",
    "\n",
    "def get_product_name():\n",
    "    # 这里的逻辑可以根据实际情况动态决定product2的值\n",
    "    # 为了示例，我们直接返回\"AI\"\n",
    "    return \"AI\"\n",
    "\n",
    "# 更新模板字符串以包含三个参数，并预先为product3赋值\n",
    "prompt = PromptTemplate(\n",
    "    template=\"{product3}，定位于 {product1} AI 编程推广，分享 {product2} 商业与技术。\",\n",
    "    input_variables=[\"product1\", \"product2\"],\n",
    "    partial_variables={\"product3\": \"秋水札记\"}  # 在构造方法中预先为product3赋值\n",
    ")\n",
    "\n",
    "# 使用函数Partial处理，这里我们假设product1始终为\"LangChain\"\n",
    "partial_prompt = prompt.partial(product1=\"LangChain\", product2=get_product_name)\n",
    "\n",
    "# 格式化时，我们不需要再传递任何变量，因为它们已通过Partial处理被填充\n",
    "final_statement = partial_prompt.format()\n",
    "print(final_statement)"
   ]
  }
 ],
 "metadata": {
  "kernelspec": {
   "display_name": "base",
   "language": "python",
   "name": "python3"
  },
  "language_info": {
   "codemirror_mode": {
    "name": "ipython",
    "version": 3
   },
   "file_extension": ".py",
   "mimetype": "text/x-python",
   "name": "python",
   "nbconvert_exporter": "python",
   "pygments_lexer": "ipython3",
   "version": "3.11.4"
  }
 },
 "nbformat": 4,
 "nbformat_minor": 2
}
