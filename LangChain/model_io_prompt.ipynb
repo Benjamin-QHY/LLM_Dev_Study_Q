{
 "cells": [
  {
   "cell_type": "markdown",
   "metadata": {},
   "source": [
    "# Model I/O - Prompt"
   ]
  },
  {
   "cell_type": "markdown",
   "metadata": {},
   "source": [
    "## 引入类"
   ]
  },
  {
   "cell_type": "code",
   "execution_count": null,
   "metadata": {},
   "outputs": [],
   "source": [
    "from langchain import PromptTemplate"
   ]
  },
  {
   "cell_type": "markdown",
   "metadata": {},
   "source": [
    "## PromptTemplate 字符串提示模版\n",
    "\n",
    "字符串提示模版最终形成的提示是以字符串形式存在的，在字符串模版中可以有多个占位符，每个占位符就是一个变量，后续可以将变量的位置替换成对应的字符串。\n",
    "格式化模版的时候，可以使用 f-strings（默认）或 jinja2 语法。"
   ]
  },
  {
   "cell_type": "markdown",
   "metadata": {},
   "source": [
    "### 使用构造函数创建"
   ]
  },
  {
   "cell_type": "code",
   "execution_count": null,
   "metadata": {},
   "outputs": [],
   "source": [
    "\n",
    "# 使用构造函数创建\n",
    "template = \"\"\"\\\n",
    "秋水札记，定位于 {product1} AI 编程推广，分享 {product2} 商业与技术。\n",
    "\"\"\"\n",
    "prompt = PromptTemplate(input_variables=[\"product1\",\"product2\"], template=template)\n",
    "print(prompt.format(product1=\"LangChain\", product2=\"AI\"))\n",
    "print(prompt.format_prompt(product1=\"LangChain\", product2=\"AI\").to_messages())"
   ]
  },
  {
   "cell_type": "markdown",
   "metadata": {},
   "source": [
    "### 使用from_template方法，模版字符串创建"
   ]
  },
  {
   "cell_type": "code",
   "execution_count": null,
   "metadata": {},
   "outputs": [],
   "source": [
    "\n",
    "# 使用from_template方法创建\n",
    "template = \"\"\"\\\n",
    "秋水札记，定位于 {product1} AI 编程推广，分享 {product2} 商业与技术。\n",
    "\"\"\"\n",
    "prompt_multiple = PromptTemplate.from_template(template)\n",
    "print(prompt_multiple.format(product1=\"LangChain\", product2=\"AI\"))"
   ]
  },
  {
   "cell_type": "markdown",
   "metadata": {},
   "source": [
    "### 使用from_file方法创建，模版文件创建"
   ]
  },
  {
   "cell_type": "code",
   "execution_count": null,
   "metadata": {},
   "outputs": [],
   "source": [
    "# 假设有一个名为\"model_io_prompt.txt\"的文件，其中包含模板字符串\n",
    "# 文件内容: \"秋水札记，定位于 {product1} AI 编程推广，分享 {product2} 商业与技术。\"\n",
    "template_path = \"model_io_prompt.txt\"\n",
    "prompt_from_file = PromptTemplate.from_file(template_path)\n",
    "print(prompt_from_file.format(product1=\"LangChain\", product2=\"AI\"))"
   ]
  }
 ],
 "metadata": {
  "kernelspec": {
   "display_name": "base",
   "language": "python",
   "name": "python3"
  },
  "language_info": {
   "codemirror_mode": {
    "name": "ipython",
    "version": 3
   },
   "file_extension": ".py",
   "mimetype": "text/x-python",
   "name": "python",
   "nbconvert_exporter": "python",
   "pygments_lexer": "ipython3",
   "version": "3.11.4"
  }
 },
 "nbformat": 4,
 "nbformat_minor": 2
}
